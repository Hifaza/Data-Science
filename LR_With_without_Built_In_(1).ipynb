{
  "nbformat": 4,
  "nbformat_minor": 0,
  "metadata": {
    "colab": {
      "provenance": [],
      "include_colab_link": true
    },
    "kernelspec": {
      "name": "python3",
      "display_name": "Python 3"
    },
    "language_info": {
      "name": "python"
    }
  },
  "cells": [
    {
      "cell_type": "markdown",
      "metadata": {
        "id": "view-in-github",
        "colab_type": "text"
      },
      "source": [
        "<a href=\"https://colab.research.google.com/github/Hifaza/Data-Science/blob/main/LR_With_without_Built_In_(1).ipynb\" target=\"_parent\"><img src=\"https://colab.research.google.com/assets/colab-badge.svg\" alt=\"Open In Colab\"/></a>"
      ]
    },
    {
      "cell_type": "markdown",
      "source": [
        "**Logistic regression** - is a powerful and widely used algorithm in supervised learning within machine learning. It's primarily used for classification tasks, particularly those involving binary outcomes: yes/no, true/false, or 0/1.\n",
        "\n",
        "**What it does:**\n",
        "It models the relationship between one or more independent variables (features) and a single binary dependent variable.\n",
        "It predicts the probability of an event occurring, instead of simply providing a yes/no answer.\n",
        "This probability output allows for more nuanced interpretations and decision-making.\n",
        "\n",
        "**How it works:**\n",
        "Under the hood, it utilizes a sigmoid function that transforms a linear equation into a smooth S-shaped curve.\n",
        "This curve maps any real-valued input from the feature space to a probability between 0 and 1.\n",
        "By training the model on labeled data, the coefficients of the linear equation are adjusted to best estimate the true probabilities underlying the relationship between features and the outcome.\n",
        "\n",
        "**When to use it:**\n",
        "When you have a binary classification problem.\n",
        "When you want to understand the influence of each feature on the outcome through the learned coefficients.\n",
        "When interpretability and explainability of the model are important.\n",
        "\n",
        "**Advantages:**\n",
        "Simple to implement and understand.\n",
        "Efficient and computationally inexpensive.\n",
        "Provides probabilistic outputs for informed decision-making.\n",
        "Offers interpretability through feature coefficients.\n",
        "\n",
        "**Disadvantages:**\n",
        "Limited to binary classification tasks.\n",
        "Assumes a linear relationship between features and the outcome.\n",
        "May not perform well with complex data or highly non-linear relationships.\n",
        "\n",
        "Examples of applications: **bold text**\n",
        "Predicting spam emails.\n",
        "Identifying fraudulent transactions.\n",
        "Classifying medical images as cancerous or benign.\n",
        "Assessing creditworthiness of loan applicants.\n",
        "\n",
        "**Beyond the basics:**\n",
        "Logistic regression can be extended to handle multi-class classification with modifications like one-vs-rest approach.\n",
        "Regularization techniques can be used to prevent overfitting and improve model generalization.\n",
        "Logistic regression can be combined with other algorithms in ensemble methods for better performance.\n",
        "\n",
        "Other Reference Links: https://developer.ibm.com/articles/implementing-logistic-regression-from-scratch-in-python/"
      ],
      "metadata": {
        "id": "3CfqQOBYyHrh"
      }
    },
    {
      "cell_type": "markdown",
      "source": [
        "**With_Built-In Function**"
      ],
      "metadata": {
        "id": "QoMG4r1zxDqB"
      }
    },
    {
      "cell_type": "code",
      "execution_count": null,
      "metadata": {
        "id": "mE2IVtzRBE5f"
      },
      "outputs": [],
      "source": [
        "import numpy as np\n",
        "from sklearn.model_selection import train_test_split\n",
        "from sklearn import datasets\n",
        "import matplotlib.pyplot as plt\n",
        "import pandas as pd\n",
        "from sklearn.feature_extraction.text import CountVectorizer, TfidfVectorizer\n",
        "from scipy.sparse import csr_array\n",
        "from sklearn import preprocessing\n",
        "from sklearn.metrics import accuracy_score"
      ]
    },
    {
      "cell_type": "code",
      "source": [
        "data=pd.read_csv('/content/chat_dataset.csv')\n",
        "data"
      ],
      "metadata": {
        "id": "6lAHauwKCAgp",
        "colab": {
          "base_uri": "https://localhost:8080/",
          "height": 424
        },
        "outputId": "9d4e7e8a-af7a-401e-b470-fc26044dac99"
      },
      "execution_count": 4,
      "outputs": [
        {
          "output_type": "execute_result",
          "data": {
            "text/plain": [
              "                                               message sentiment\n",
              "0                           I really enjoyed the movie  positive\n",
              "1                                The food was terrible  negative\n",
              "2                   I'm not sure how I feel about this   neutral\n",
              "3                            The service was excellent  positive\n",
              "4                               I had a bad experience  negative\n",
              "..                                                 ...       ...\n",
              "579  I have to cancel my vacation plans because I c...  negative\n",
              "580  My computer crashed and I lost all my importan...  negative\n",
              "581  I got into a car accident and my car is totale...  negative\n",
              "582  I have a cold and can't stop coughing. it's re...  negative\n",
              "583  I just found out my ex is dating someone new. ...  negative\n",
              "\n",
              "[584 rows x 2 columns]"
            ],
            "text/html": [
              "\n",
              "  <div id=\"df-4157c01a-a5bf-4c30-a27b-d8c8f55f13fe\" class=\"colab-df-container\">\n",
              "    <div>\n",
              "<style scoped>\n",
              "    .dataframe tbody tr th:only-of-type {\n",
              "        vertical-align: middle;\n",
              "    }\n",
              "\n",
              "    .dataframe tbody tr th {\n",
              "        vertical-align: top;\n",
              "    }\n",
              "\n",
              "    .dataframe thead th {\n",
              "        text-align: right;\n",
              "    }\n",
              "</style>\n",
              "<table border=\"1\" class=\"dataframe\">\n",
              "  <thead>\n",
              "    <tr style=\"text-align: right;\">\n",
              "      <th></th>\n",
              "      <th>message</th>\n",
              "      <th>sentiment</th>\n",
              "    </tr>\n",
              "  </thead>\n",
              "  <tbody>\n",
              "    <tr>\n",
              "      <th>0</th>\n",
              "      <td>I really enjoyed the movie</td>\n",
              "      <td>positive</td>\n",
              "    </tr>\n",
              "    <tr>\n",
              "      <th>1</th>\n",
              "      <td>The food was terrible</td>\n",
              "      <td>negative</td>\n",
              "    </tr>\n",
              "    <tr>\n",
              "      <th>2</th>\n",
              "      <td>I'm not sure how I feel about this</td>\n",
              "      <td>neutral</td>\n",
              "    </tr>\n",
              "    <tr>\n",
              "      <th>3</th>\n",
              "      <td>The service was excellent</td>\n",
              "      <td>positive</td>\n",
              "    </tr>\n",
              "    <tr>\n",
              "      <th>4</th>\n",
              "      <td>I had a bad experience</td>\n",
              "      <td>negative</td>\n",
              "    </tr>\n",
              "    <tr>\n",
              "      <th>...</th>\n",
              "      <td>...</td>\n",
              "      <td>...</td>\n",
              "    </tr>\n",
              "    <tr>\n",
              "      <th>579</th>\n",
              "      <td>I have to cancel my vacation plans because I c...</td>\n",
              "      <td>negative</td>\n",
              "    </tr>\n",
              "    <tr>\n",
              "      <th>580</th>\n",
              "      <td>My computer crashed and I lost all my importan...</td>\n",
              "      <td>negative</td>\n",
              "    </tr>\n",
              "    <tr>\n",
              "      <th>581</th>\n",
              "      <td>I got into a car accident and my car is totale...</td>\n",
              "      <td>negative</td>\n",
              "    </tr>\n",
              "    <tr>\n",
              "      <th>582</th>\n",
              "      <td>I have a cold and can't stop coughing. it's re...</td>\n",
              "      <td>negative</td>\n",
              "    </tr>\n",
              "    <tr>\n",
              "      <th>583</th>\n",
              "      <td>I just found out my ex is dating someone new. ...</td>\n",
              "      <td>negative</td>\n",
              "    </tr>\n",
              "  </tbody>\n",
              "</table>\n",
              "<p>584 rows × 2 columns</p>\n",
              "</div>\n",
              "    <div class=\"colab-df-buttons\">\n",
              "\n",
              "  <div class=\"colab-df-container\">\n",
              "    <button class=\"colab-df-convert\" onclick=\"convertToInteractive('df-4157c01a-a5bf-4c30-a27b-d8c8f55f13fe')\"\n",
              "            title=\"Convert this dataframe to an interactive table.\"\n",
              "            style=\"display:none;\">\n",
              "\n",
              "  <svg xmlns=\"http://www.w3.org/2000/svg\" height=\"24px\" viewBox=\"0 -960 960 960\">\n",
              "    <path d=\"M120-120v-720h720v720H120Zm60-500h600v-160H180v160Zm220 220h160v-160H400v160Zm0 220h160v-160H400v160ZM180-400h160v-160H180v160Zm440 0h160v-160H620v160ZM180-180h160v-160H180v160Zm440 0h160v-160H620v160Z\"/>\n",
              "  </svg>\n",
              "    </button>\n",
              "\n",
              "  <style>\n",
              "    .colab-df-container {\n",
              "      display:flex;\n",
              "      gap: 12px;\n",
              "    }\n",
              "\n",
              "    .colab-df-convert {\n",
              "      background-color: #E8F0FE;\n",
              "      border: none;\n",
              "      border-radius: 50%;\n",
              "      cursor: pointer;\n",
              "      display: none;\n",
              "      fill: #1967D2;\n",
              "      height: 32px;\n",
              "      padding: 0 0 0 0;\n",
              "      width: 32px;\n",
              "    }\n",
              "\n",
              "    .colab-df-convert:hover {\n",
              "      background-color: #E2EBFA;\n",
              "      box-shadow: 0px 1px 2px rgba(60, 64, 67, 0.3), 0px 1px 3px 1px rgba(60, 64, 67, 0.15);\n",
              "      fill: #174EA6;\n",
              "    }\n",
              "\n",
              "    .colab-df-buttons div {\n",
              "      margin-bottom: 4px;\n",
              "    }\n",
              "\n",
              "    [theme=dark] .colab-df-convert {\n",
              "      background-color: #3B4455;\n",
              "      fill: #D2E3FC;\n",
              "    }\n",
              "\n",
              "    [theme=dark] .colab-df-convert:hover {\n",
              "      background-color: #434B5C;\n",
              "      box-shadow: 0px 1px 3px 1px rgba(0, 0, 0, 0.15);\n",
              "      filter: drop-shadow(0px 1px 2px rgba(0, 0, 0, 0.3));\n",
              "      fill: #FFFFFF;\n",
              "    }\n",
              "  </style>\n",
              "\n",
              "    <script>\n",
              "      const buttonEl =\n",
              "        document.querySelector('#df-4157c01a-a5bf-4c30-a27b-d8c8f55f13fe button.colab-df-convert');\n",
              "      buttonEl.style.display =\n",
              "        google.colab.kernel.accessAllowed ? 'block' : 'none';\n",
              "\n",
              "      async function convertToInteractive(key) {\n",
              "        const element = document.querySelector('#df-4157c01a-a5bf-4c30-a27b-d8c8f55f13fe');\n",
              "        const dataTable =\n",
              "          await google.colab.kernel.invokeFunction('convertToInteractive',\n",
              "                                                    [key], {});\n",
              "        if (!dataTable) return;\n",
              "\n",
              "        const docLinkHtml = 'Like what you see? Visit the ' +\n",
              "          '<a target=\"_blank\" href=https://colab.research.google.com/notebooks/data_table.ipynb>data table notebook</a>'\n",
              "          + ' to learn more about interactive tables.';\n",
              "        element.innerHTML = '';\n",
              "        dataTable['output_type'] = 'display_data';\n",
              "        await google.colab.output.renderOutput(dataTable, element);\n",
              "        const docLink = document.createElement('div');\n",
              "        docLink.innerHTML = docLinkHtml;\n",
              "        element.appendChild(docLink);\n",
              "      }\n",
              "    </script>\n",
              "  </div>\n",
              "\n",
              "\n",
              "<div id=\"df-0196822b-2405-4b0a-8cc3-7c676141f494\">\n",
              "  <button class=\"colab-df-quickchart\" onclick=\"quickchart('df-0196822b-2405-4b0a-8cc3-7c676141f494')\"\n",
              "            title=\"Suggest charts\"\n",
              "            style=\"display:none;\">\n",
              "\n",
              "<svg xmlns=\"http://www.w3.org/2000/svg\" height=\"24px\"viewBox=\"0 0 24 24\"\n",
              "     width=\"24px\">\n",
              "    <g>\n",
              "        <path d=\"M19 3H5c-1.1 0-2 .9-2 2v14c0 1.1.9 2 2 2h14c1.1 0 2-.9 2-2V5c0-1.1-.9-2-2-2zM9 17H7v-7h2v7zm4 0h-2V7h2v10zm4 0h-2v-4h2v4z\"/>\n",
              "    </g>\n",
              "</svg>\n",
              "  </button>\n",
              "\n",
              "<style>\n",
              "  .colab-df-quickchart {\n",
              "      --bg-color: #E8F0FE;\n",
              "      --fill-color: #1967D2;\n",
              "      --hover-bg-color: #E2EBFA;\n",
              "      --hover-fill-color: #174EA6;\n",
              "      --disabled-fill-color: #AAA;\n",
              "      --disabled-bg-color: #DDD;\n",
              "  }\n",
              "\n",
              "  [theme=dark] .colab-df-quickchart {\n",
              "      --bg-color: #3B4455;\n",
              "      --fill-color: #D2E3FC;\n",
              "      --hover-bg-color: #434B5C;\n",
              "      --hover-fill-color: #FFFFFF;\n",
              "      --disabled-bg-color: #3B4455;\n",
              "      --disabled-fill-color: #666;\n",
              "  }\n",
              "\n",
              "  .colab-df-quickchart {\n",
              "    background-color: var(--bg-color);\n",
              "    border: none;\n",
              "    border-radius: 50%;\n",
              "    cursor: pointer;\n",
              "    display: none;\n",
              "    fill: var(--fill-color);\n",
              "    height: 32px;\n",
              "    padding: 0;\n",
              "    width: 32px;\n",
              "  }\n",
              "\n",
              "  .colab-df-quickchart:hover {\n",
              "    background-color: var(--hover-bg-color);\n",
              "    box-shadow: 0 1px 2px rgba(60, 64, 67, 0.3), 0 1px 3px 1px rgba(60, 64, 67, 0.15);\n",
              "    fill: var(--button-hover-fill-color);\n",
              "  }\n",
              "\n",
              "  .colab-df-quickchart-complete:disabled,\n",
              "  .colab-df-quickchart-complete:disabled:hover {\n",
              "    background-color: var(--disabled-bg-color);\n",
              "    fill: var(--disabled-fill-color);\n",
              "    box-shadow: none;\n",
              "  }\n",
              "\n",
              "  .colab-df-spinner {\n",
              "    border: 2px solid var(--fill-color);\n",
              "    border-color: transparent;\n",
              "    border-bottom-color: var(--fill-color);\n",
              "    animation:\n",
              "      spin 1s steps(1) infinite;\n",
              "  }\n",
              "\n",
              "  @keyframes spin {\n",
              "    0% {\n",
              "      border-color: transparent;\n",
              "      border-bottom-color: var(--fill-color);\n",
              "      border-left-color: var(--fill-color);\n",
              "    }\n",
              "    20% {\n",
              "      border-color: transparent;\n",
              "      border-left-color: var(--fill-color);\n",
              "      border-top-color: var(--fill-color);\n",
              "    }\n",
              "    30% {\n",
              "      border-color: transparent;\n",
              "      border-left-color: var(--fill-color);\n",
              "      border-top-color: var(--fill-color);\n",
              "      border-right-color: var(--fill-color);\n",
              "    }\n",
              "    40% {\n",
              "      border-color: transparent;\n",
              "      border-right-color: var(--fill-color);\n",
              "      border-top-color: var(--fill-color);\n",
              "    }\n",
              "    60% {\n",
              "      border-color: transparent;\n",
              "      border-right-color: var(--fill-color);\n",
              "    }\n",
              "    80% {\n",
              "      border-color: transparent;\n",
              "      border-right-color: var(--fill-color);\n",
              "      border-bottom-color: var(--fill-color);\n",
              "    }\n",
              "    90% {\n",
              "      border-color: transparent;\n",
              "      border-bottom-color: var(--fill-color);\n",
              "    }\n",
              "  }\n",
              "</style>\n",
              "\n",
              "  <script>\n",
              "    async function quickchart(key) {\n",
              "      const quickchartButtonEl =\n",
              "        document.querySelector('#' + key + ' button');\n",
              "      quickchartButtonEl.disabled = true;  // To prevent multiple clicks.\n",
              "      quickchartButtonEl.classList.add('colab-df-spinner');\n",
              "      try {\n",
              "        const charts = await google.colab.kernel.invokeFunction(\n",
              "            'suggestCharts', [key], {});\n",
              "      } catch (error) {\n",
              "        console.error('Error during call to suggestCharts:', error);\n",
              "      }\n",
              "      quickchartButtonEl.classList.remove('colab-df-spinner');\n",
              "      quickchartButtonEl.classList.add('colab-df-quickchart-complete');\n",
              "    }\n",
              "    (() => {\n",
              "      let quickchartButtonEl =\n",
              "        document.querySelector('#df-0196822b-2405-4b0a-8cc3-7c676141f494 button');\n",
              "      quickchartButtonEl.style.display =\n",
              "        google.colab.kernel.accessAllowed ? 'block' : 'none';\n",
              "    })();\n",
              "  </script>\n",
              "</div>\n",
              "\n",
              "  <div id=\"id_d8f2ebc2-dc9e-42db-84ef-10c8ba228fdc\">\n",
              "    <style>\n",
              "      .colab-df-generate {\n",
              "        background-color: #E8F0FE;\n",
              "        border: none;\n",
              "        border-radius: 50%;\n",
              "        cursor: pointer;\n",
              "        display: none;\n",
              "        fill: #1967D2;\n",
              "        height: 32px;\n",
              "        padding: 0 0 0 0;\n",
              "        width: 32px;\n",
              "      }\n",
              "\n",
              "      .colab-df-generate:hover {\n",
              "        background-color: #E2EBFA;\n",
              "        box-shadow: 0px 1px 2px rgba(60, 64, 67, 0.3), 0px 1px 3px 1px rgba(60, 64, 67, 0.15);\n",
              "        fill: #174EA6;\n",
              "      }\n",
              "\n",
              "      [theme=dark] .colab-df-generate {\n",
              "        background-color: #3B4455;\n",
              "        fill: #D2E3FC;\n",
              "      }\n",
              "\n",
              "      [theme=dark] .colab-df-generate:hover {\n",
              "        background-color: #434B5C;\n",
              "        box-shadow: 0px 1px 3px 1px rgba(0, 0, 0, 0.15);\n",
              "        filter: drop-shadow(0px 1px 2px rgba(0, 0, 0, 0.3));\n",
              "        fill: #FFFFFF;\n",
              "      }\n",
              "    </style>\n",
              "    <button class=\"colab-df-generate\" onclick=\"generateWithVariable('data')\"\n",
              "            title=\"Generate code using this dataframe.\"\n",
              "            style=\"display:none;\">\n",
              "\n",
              "  <svg xmlns=\"http://www.w3.org/2000/svg\" height=\"24px\"viewBox=\"0 0 24 24\"\n",
              "       width=\"24px\">\n",
              "    <path d=\"M7,19H8.4L18.45,9,17,7.55,7,17.6ZM5,21V16.75L18.45,3.32a2,2,0,0,1,2.83,0l1.4,1.43a1.91,1.91,0,0,1,.58,1.4,1.91,1.91,0,0,1-.58,1.4L9.25,21ZM18.45,9,17,7.55Zm-12,3A5.31,5.31,0,0,0,4.9,8.1,5.31,5.31,0,0,0,1,6.5,5.31,5.31,0,0,0,4.9,4.9,5.31,5.31,0,0,0,6.5,1,5.31,5.31,0,0,0,8.1,4.9,5.31,5.31,0,0,0,12,6.5,5.46,5.46,0,0,0,6.5,12Z\"/>\n",
              "  </svg>\n",
              "    </button>\n",
              "    <script>\n",
              "      (() => {\n",
              "      const buttonEl =\n",
              "        document.querySelector('#id_d8f2ebc2-dc9e-42db-84ef-10c8ba228fdc button.colab-df-generate');\n",
              "      buttonEl.style.display =\n",
              "        google.colab.kernel.accessAllowed ? 'block' : 'none';\n",
              "\n",
              "      buttonEl.onclick = () => {\n",
              "        google.colab.notebook.generateWithVariable('data');\n",
              "      }\n",
              "      })();\n",
              "    </script>\n",
              "  </div>\n",
              "\n",
              "    </div>\n",
              "  </div>\n"
            ]
          },
          "metadata": {},
          "execution_count": 4
        }
      ]
    },
    {
      "cell_type": "code",
      "source": [
        "from google.colab import drive\n",
        "drive.mount('/content/drive')"
      ],
      "metadata": {
        "colab": {
          "base_uri": "https://localhost:8080/"
        },
        "id": "jaWr0xyrOxXC",
        "outputId": "e99ece64-576a-4504-e1cc-8a0d567dbdd9"
      },
      "execution_count": 5,
      "outputs": [
        {
          "output_type": "stream",
          "name": "stdout",
          "text": [
            "Mounted at /content/drive\n"
          ]
        }
      ]
    },
    {
      "cell_type": "code",
      "source": [
        "label_encoder = preprocessing.LabelEncoder()\n",
        "data['sentiments']= label_encoder.fit_transform(data['sentiment'])\n",
        "data['sentiments'].unique()"
      ],
      "metadata": {
        "id": "3MUlZv9bL7aZ",
        "colab": {
          "base_uri": "https://localhost:8080/"
        },
        "outputId": "6bb50aa4-e48f-41c5-8203-429df81d70ae"
      },
      "execution_count": 6,
      "outputs": [
        {
          "output_type": "execute_result",
          "data": {
            "text/plain": [
              "array([2, 0, 1])"
            ]
          },
          "metadata": {},
          "execution_count": 6
        }
      ]
    },
    {
      "cell_type": "code",
      "source": [
        "x = data['message']\n",
        "y= data['sentiments']\n",
        "x_train, x_test, y_train, y_test= train_test_split(x, y, test_size=0.2, random_state=1234)"
      ],
      "metadata": {
        "id": "rI3AMLpVENXB"
      },
      "execution_count": 7,
      "outputs": []
    },
    {
      "cell_type": "code",
      "source": [
        "x_train"
      ],
      "metadata": {
        "colab": {
          "base_uri": "https://localhost:8080/"
        },
        "id": "Q8AkTyU2Ig0c",
        "outputId": "d1037af4-bba2-48bf-b1f6-7f9ff34ec69d"
      },
      "execution_count": 8,
      "outputs": [
        {
          "output_type": "execute_result",
          "data": {
            "text/plain": [
              "330                      I'm not sure what to do 😕\n",
              "223           I have no strong feelings about this\n",
              "167    The service at this restaurant was terrible\n",
              "27        This is an excellent company to work for\n",
              "92                I regret not buying this product\n",
              "                          ...                     \n",
              "279                      This software is ordinary\n",
              "372            I'm not sure if I want to do that 🤔\n",
              "204     The service at this restaurant was average\n",
              "53                      I'm very pleased with this\n",
              "294            The service at this spa was amazing\n",
              "Name: message, Length: 467, dtype: object"
            ]
          },
          "metadata": {},
          "execution_count": 8
        }
      ]
    },
    {
      "cell_type": "code",
      "source": [
        "vectorizer = TfidfVectorizer()\n",
        "train_feature = vectorizer.fit_transform(x_train)\n",
        "test_feature  = vectorizer.transform(x_test)"
      ],
      "metadata": {
        "id": "y2ZimBUnGpVy"
      },
      "execution_count": 9,
      "outputs": []
    },
    {
      "cell_type": "code",
      "source": [
        "print(train_feature)"
      ],
      "metadata": {
        "id": "GOC6b6FfHLbZ",
        "colab": {
          "base_uri": "https://localhost:8080/"
        },
        "outputId": "9c0fca84-c0f8-4eea-eb87-27596bef71d8"
      },
      "execution_count": 10,
      "outputs": [
        {
          "output_type": "stream",
          "name": "stdout",
          "text": [
            "  (0, 143)\t0.5474719041814794\n",
            "  (0, 545)\t0.33586078807820896\n",
            "  (0, 605)\t0.5117286141902689\n",
            "  (0, 518)\t0.431848017686985\n",
            "  (0, 366)\t0.3729787664225913\n",
            "  (1, 538)\t0.22357981378065514\n",
            "  (1, 10)\t0.38655714392246876\n",
            "  (1, 189)\t0.5215259219977413\n",
            "  (1, 506)\t0.48205008502664615\n",
            "  (1, 362)\t0.4145656959890099\n",
            "  (1, 243)\t0.3526462154506527\n",
            "  (2, 526)\t0.5031902113716717\n",
            "  (2, 591)\t0.2622246911746268\n",
            "  (2, 458)\t0.5031902113716717\n",
            "  (2, 38)\t0.3747044233262801\n",
            "  (2, 476)\t0.4297706734337786\n",
            "  (2, 531)\t0.20140478131953282\n",
            "  (2, 538)\t0.243243316774508\n",
            "  (3, 207)\t0.3068554180095769\n",
            "  (3, 614)\t0.38245725821977333\n",
            "  (3, 96)\t0.4235361536436673\n",
            "  (3, 175)\t0.44303917455366154\n",
            "  (3, 26)\t0.46818294161039864\n",
            "  (3, 281)\t0.2440032122073781\n",
            "  (3, 538)\t0.20071150921810868\n",
            "  :\t:\n",
            "  (463, 590)\t0.5108139848865645\n",
            "  (463, 266)\t0.37747823742060993\n",
            "  (463, 530)\t0.3997571422267288\n",
            "  (463, 143)\t0.4211360441203591\n",
            "  (463, 545)\t0.2583567897933932\n",
            "  (463, 518)\t0.3321937882854887\n",
            "  (463, 366)\t0.2869093391503674\n",
            "  (464, 40)\t0.4339389424597051\n",
            "  (464, 591)\t0.27338111463978837\n",
            "  (464, 458)\t0.5245985808750914\n",
            "  (464, 38)\t0.39064632872874755\n",
            "  (464, 476)\t0.44805538798242456\n",
            "  (464, 531)\t0.2099736045613252\n",
            "  (464, 538)\t0.25359217231076886\n",
            "  (465, 417)\t0.7143652138637141\n",
            "  (465, 584)\t0.5257126722266464\n",
            "  (465, 610)\t0.3856502317519392\n",
            "  (465, 538)\t0.25413072665745084\n",
            "  (466, 491)\t0.5830601002775417\n",
            "  (466, 23)\t0.5014010368468883\n",
            "  (466, 591)\t0.23859189225623595\n",
            "  (466, 38)\t0.3409344749257901\n",
            "  (466, 476)\t0.3910379215301139\n",
            "  (466, 531)\t0.18325333007058361\n",
            "  (466, 538)\t0.22132119964730654\n"
          ]
        }
      ]
    },
    {
      "cell_type": "code",
      "source": [
        "terms_train1= train_feature.toarray()"
      ],
      "metadata": {
        "id": "CADLjMIRvNYJ"
      },
      "execution_count": 11,
      "outputs": []
    },
    {
      "cell_type": "code",
      "source": [
        "term_test1=test_feature.toarray()"
      ],
      "metadata": {
        "id": "Ktyvyg0PwIm5"
      },
      "execution_count": 12,
      "outputs": []
    },
    {
      "cell_type": "code",
      "source": [
        "class LogisticRegression:\n",
        "\n",
        "    def __init__(self, learning_rate=0.001, n_iters=1000):\n",
        "        self.lr = learning_rate\n",
        "        self.n_iters = n_iters\n",
        "        self.weights = None\n",
        "        self.bias = None\n",
        "\n",
        "    def fit(self, X, y):\n",
        "        n_samples, n_features = X.shape\n",
        "\n",
        "        # init parameters\n",
        "        self.weights = np.zeros(n_features)\n",
        "        self.bias = 0\n",
        "\n",
        "        # gradient descent\n",
        "        for _ in range(self.n_iters):\n",
        "            # approximate output variable (y) with linear combination of weights and x, plus bias\n",
        "            linear_model = np.dot(X, self.weights) + self.bias\n",
        "            # apply sigmoid function\n",
        "            y_predicted = self._sigmoid(linear_model)\n",
        "\n",
        "            # compute gradients\n",
        "            dw = (1 / n_samples) * np.dot(X.T, (y_predicted - y)) #derivative w.r.t weights\n",
        "            db = (1 / n_samples) * np.sum(y_predicted - y)  #derivative w.r.t bias\n",
        "            # update parameters\n",
        "            self.weights -= self.lr * dw\n",
        "            self.bias -= self.lr * db\n",
        "\n",
        "    def predict(self, X):\n",
        "        linear_model = np.dot(X, self.weights) + self.bias\n",
        "        y_predicted = self._sigmoid(linear_model)\n",
        "        y_predicted_cls = [1 if i > 0.5 else 0 for i in y_predicted]\n",
        "        return np.array(y_predicted_cls)\n",
        "\n",
        "    def _sigmoid(self, x):\n",
        "        return 1 / (1 + np.exp(-x))\n",
        "\n",
        "def accuracy(y_true, y_pred):\n",
        "    accuracy = np.sum(y_true == y_pred) / len(y_true)\n",
        "    return accuracy"
      ],
      "metadata": {
        "id": "QHDF-pi5B0Ea"
      },
      "execution_count": 13,
      "outputs": []
    },
    {
      "cell_type": "code",
      "source": [
        "# class LogisticRegression():\n",
        "#     def __init__(self):\n",
        "#         self.losses = []\n",
        "#         self.train_accuracies = []\n",
        "\n",
        "#     def fit(self, x, y, epochs):\n",
        "#         x = self._transform_x(x)\n",
        "#         y = self._transform_y(y)\n",
        "\n",
        "#         self.weights = np.zeros(x.shape[1])\n",
        "#         self.bias = 0\n",
        "\n",
        "#         for i in range(epochs):\n",
        "#             x_dot_weights = np.matmul(self.weights, x.transpose()) + self.bias\n",
        "#             pred = self._sigmoid(x_dot_weights)\n",
        "#             loss = self.compute_loss(y, pred)\n",
        "#             error_w, error_b = self.compute_gradients(x, y, pred)\n",
        "#             self.update_model_parameters(error_w, error_b)\n",
        "\n",
        "#             pred_to_class = [1 if p > 0.5 else 0 for p in pred]\n",
        "#             self.train_accuracies.append(accuracy_score(y, pred_to_class))\n",
        "#             self.losses.append(loss)\n",
        "\n",
        "#     def compute_loss(self, y_true, y_pred):\n",
        "#         # binary cross entropy\n",
        "#         y_zero_loss = y_true * np.log(y_pred + 1e-9)\n",
        "#         y_one_loss = (1-y_true) * np.log(1 - y_pred + 1e-9)\n",
        "#         return -np.mean(y_zero_loss + y_one_loss)\n",
        "\n",
        "#     def compute_gradients(self, x, y_true, y_pred):\n",
        "#         # derivative of binary cross entropy\n",
        "#         difference =  y_pred - y_true\n",
        "#         gradient_b = np.mean(difference)\n",
        "#         gradients_w = np.matmul(x.transpose(), difference)\n",
        "#         gradients_w = np.array([np.mean(grad) for grad in gradients_w])\n",
        "\n",
        "#         return gradients_w, gradient_b\n",
        "\n",
        "#     def update_model_parameters(self, error_w, error_b):\n",
        "#         self.weights = self.weights - 0.1 * error_w\n",
        "#         self.bias = self.bias - 0.1 * error_b\n",
        "\n",
        "#     def predict(self, x):\n",
        "#         x_dot_weights = np.matmul(x, self.weights.transpose()) + self.bias\n",
        "#         probabilities = self._sigmoid(x_dot_weights)\n",
        "#         return [1 if p > 0.5 else 0 for p in probabilities]\n",
        "\n",
        "#     def _sigmoid(self, x):\n",
        "#         return np.array([self._sigmoid_function(value) for value in x])\n",
        "\n",
        "#     def _sigmoid_function(self, x):\n",
        "#         if x >= 0:\n",
        "#             z = np.exp(-x)\n",
        "#             return 1 / (1 + z)\n",
        "#         else:\n",
        "#             z = np.exp(x)\n",
        "#             return z / (1 + z)\n",
        "\n",
        "#     def _transform_x(self, x):\n",
        "#         x = copy.deepcopy(x)\n",
        "#         return x.values\n",
        "\n",
        "#     def _transform_y(self, y):\n",
        "#         y = copy.deepcopy(y)\n",
        "#         return y.values.reshape(y.shape[0], 1)"
      ],
      "metadata": {
        "id": "zlEs3wWPL3aD"
      },
      "execution_count": 14,
      "outputs": []
    },
    {
      "cell_type": "code",
      "source": [
        "itr=[]\n",
        "acc=[]"
      ],
      "metadata": {
        "id": "FtjxNR4GB2eJ"
      },
      "execution_count": 15,
      "outputs": []
    },
    {
      "cell_type": "code",
      "source": [
        "regressor = LogisticRegression(solver='newton-cg', max_iter=150)#learning_rate=0.0001, n_iters=383"
      ],
      "metadata": {
        "id": "58rXKu7uB4Gp",
        "colab": {
          "base_uri": "https://localhost:8080/",
          "height": 175
        },
        "outputId": "c84a9c11-ec19-4606-d060-3b51c73fb6f4"
      },
      "execution_count": 17,
      "outputs": [
        {
          "output_type": "error",
          "ename": "TypeError",
          "evalue": "ignored",
          "traceback": [
            "\u001b[0;31m---------------------------------------------------------------------------\u001b[0m",
            "\u001b[0;31mTypeError\u001b[0m                                 Traceback (most recent call last)",
            "\u001b[0;32m<ipython-input-17-d72b53212f19>\u001b[0m in \u001b[0;36m<cell line: 1>\u001b[0;34m()\u001b[0m\n\u001b[0;32m----> 1\u001b[0;31m \u001b[0mregressor\u001b[0m \u001b[0;34m=\u001b[0m \u001b[0mLogisticRegression\u001b[0m\u001b[0;34m(\u001b[0m\u001b[0msolver\u001b[0m\u001b[0;34m=\u001b[0m\u001b[0;34m'newton-cg'\u001b[0m\u001b[0;34m,\u001b[0m \u001b[0mmax_iter\u001b[0m\u001b[0;34m=\u001b[0m\u001b[0;36m150\u001b[0m\u001b[0;34m)\u001b[0m\u001b[0;31m#learning_rate=0.0001, n_iters=383\u001b[0m\u001b[0;34m\u001b[0m\u001b[0;34m\u001b[0m\u001b[0m\n\u001b[0m",
            "\u001b[0;31mTypeError\u001b[0m: LogisticRegression.__init__() got an unexpected keyword argument 'solver'"
          ]
        }
      ]
    },
    {
      "cell_type": "code",
      "source": [
        "regressor.fit(terms_train1, y_train)"
      ],
      "metadata": {
        "id": "RvvtrWrbGOI6",
        "colab": {
          "base_uri": "https://localhost:8080/",
          "height": 175
        },
        "outputId": "2ec89e68-ba96-4740-d494-285b1330fe3c"
      },
      "execution_count": 18,
      "outputs": [
        {
          "output_type": "error",
          "ename": "NameError",
          "evalue": "ignored",
          "traceback": [
            "\u001b[0;31m---------------------------------------------------------------------------\u001b[0m",
            "\u001b[0;31mNameError\u001b[0m                                 Traceback (most recent call last)",
            "\u001b[0;32m<ipython-input-18-ea07e802f80b>\u001b[0m in \u001b[0;36m<cell line: 1>\u001b[0;34m()\u001b[0m\n\u001b[0;32m----> 1\u001b[0;31m \u001b[0mregressor\u001b[0m\u001b[0;34m.\u001b[0m\u001b[0mfit\u001b[0m\u001b[0;34m(\u001b[0m\u001b[0mterms_train1\u001b[0m\u001b[0;34m,\u001b[0m \u001b[0my_train\u001b[0m\u001b[0;34m)\u001b[0m\u001b[0;34m\u001b[0m\u001b[0;34m\u001b[0m\u001b[0m\n\u001b[0m",
            "\u001b[0;31mNameError\u001b[0m: name 'regressor' is not defined"
          ]
        }
      ]
    },
    {
      "cell_type": "code",
      "source": [
        "predictions = regressor.predict(term_test1)\n",
        "itr.append(500)"
      ],
      "metadata": {
        "id": "bUfYEwCbGPrC"
      },
      "execution_count": null,
      "outputs": []
    },
    {
      "cell_type": "code",
      "source": [
        "print(\"LR classification accuracy:\", accuracy(y_test, predictions))\n",
        "acc.append(accuracy(y_test, predictions))"
      ],
      "metadata": {
        "id": "kLdAFrOsB5Sx",
        "colab": {
          "base_uri": "https://localhost:8080/"
        },
        "outputId": "e95fb34b-5b58-40e1-f71d-e0bb1151119a"
      },
      "execution_count": null,
      "outputs": [
        {
          "output_type": "stream",
          "name": "stdout",
          "text": [
            "LR classification accuracy: 0.8290598290598291\n"
          ]
        }
      ]
    },
    {
      "cell_type": "markdown",
      "source": [
        "**Without_Built-In Function**"
      ],
      "metadata": {
        "id": "2PfM6WOhw_gK"
      }
    },
    {
      "cell_type": "code",
      "source": [
        "from sklearn.linear_model import LogisticRegression\n",
        "clf = LogisticRegression()#tol=0.0001, max_iter=383,class_weight=None,random_state=None\n",
        "clf.fit(train_feature, y_train)"
      ],
      "metadata": {
        "id": "rZSGKL2exIu6",
        "colab": {
          "base_uri": "https://localhost:8080/",
          "height": 75
        },
        "outputId": "c054741a-5aed-4ddb-d37b-e1752d6ae65e"
      },
      "execution_count": null,
      "outputs": [
        {
          "output_type": "execute_result",
          "data": {
            "text/plain": [
              "LogisticRegression()"
            ],
            "text/html": [
              "<style>#sk-container-id-8 {color: black;background-color: white;}#sk-container-id-8 pre{padding: 0;}#sk-container-id-8 div.sk-toggleable {background-color: white;}#sk-container-id-8 label.sk-toggleable__label {cursor: pointer;display: block;width: 100%;margin-bottom: 0;padding: 0.3em;box-sizing: border-box;text-align: center;}#sk-container-id-8 label.sk-toggleable__label-arrow:before {content: \"▸\";float: left;margin-right: 0.25em;color: #696969;}#sk-container-id-8 label.sk-toggleable__label-arrow:hover:before {color: black;}#sk-container-id-8 div.sk-estimator:hover label.sk-toggleable__label-arrow:before {color: black;}#sk-container-id-8 div.sk-toggleable__content {max-height: 0;max-width: 0;overflow: hidden;text-align: left;background-color: #f0f8ff;}#sk-container-id-8 div.sk-toggleable__content pre {margin: 0.2em;color: black;border-radius: 0.25em;background-color: #f0f8ff;}#sk-container-id-8 input.sk-toggleable__control:checked~div.sk-toggleable__content {max-height: 200px;max-width: 100%;overflow: auto;}#sk-container-id-8 input.sk-toggleable__control:checked~label.sk-toggleable__label-arrow:before {content: \"▾\";}#sk-container-id-8 div.sk-estimator input.sk-toggleable__control:checked~label.sk-toggleable__label {background-color: #d4ebff;}#sk-container-id-8 div.sk-label input.sk-toggleable__control:checked~label.sk-toggleable__label {background-color: #d4ebff;}#sk-container-id-8 input.sk-hidden--visually {border: 0;clip: rect(1px 1px 1px 1px);clip: rect(1px, 1px, 1px, 1px);height: 1px;margin: -1px;overflow: hidden;padding: 0;position: absolute;width: 1px;}#sk-container-id-8 div.sk-estimator {font-family: monospace;background-color: #f0f8ff;border: 1px dotted black;border-radius: 0.25em;box-sizing: border-box;margin-bottom: 0.5em;}#sk-container-id-8 div.sk-estimator:hover {background-color: #d4ebff;}#sk-container-id-8 div.sk-parallel-item::after {content: \"\";width: 100%;border-bottom: 1px solid gray;flex-grow: 1;}#sk-container-id-8 div.sk-label:hover label.sk-toggleable__label {background-color: #d4ebff;}#sk-container-id-8 div.sk-serial::before {content: \"\";position: absolute;border-left: 1px solid gray;box-sizing: border-box;top: 0;bottom: 0;left: 50%;z-index: 0;}#sk-container-id-8 div.sk-serial {display: flex;flex-direction: column;align-items: center;background-color: white;padding-right: 0.2em;padding-left: 0.2em;position: relative;}#sk-container-id-8 div.sk-item {position: relative;z-index: 1;}#sk-container-id-8 div.sk-parallel {display: flex;align-items: stretch;justify-content: center;background-color: white;position: relative;}#sk-container-id-8 div.sk-item::before, #sk-container-id-8 div.sk-parallel-item::before {content: \"\";position: absolute;border-left: 1px solid gray;box-sizing: border-box;top: 0;bottom: 0;left: 50%;z-index: -1;}#sk-container-id-8 div.sk-parallel-item {display: flex;flex-direction: column;z-index: 1;position: relative;background-color: white;}#sk-container-id-8 div.sk-parallel-item:first-child::after {align-self: flex-end;width: 50%;}#sk-container-id-8 div.sk-parallel-item:last-child::after {align-self: flex-start;width: 50%;}#sk-container-id-8 div.sk-parallel-item:only-child::after {width: 0;}#sk-container-id-8 div.sk-dashed-wrapped {border: 1px dashed gray;margin: 0 0.4em 0.5em 0.4em;box-sizing: border-box;padding-bottom: 0.4em;background-color: white;}#sk-container-id-8 div.sk-label label {font-family: monospace;font-weight: bold;display: inline-block;line-height: 1.2em;}#sk-container-id-8 div.sk-label-container {text-align: center;}#sk-container-id-8 div.sk-container {/* jupyter's `normalize.less` sets `[hidden] { display: none; }` but bootstrap.min.css set `[hidden] { display: none !important; }` so we also need the `!important` here to be able to override the default hidden behavior on the sphinx rendered scikit-learn.org. See: https://github.com/scikit-learn/scikit-learn/issues/21755 */display: inline-block !important;position: relative;}#sk-container-id-8 div.sk-text-repr-fallback {display: none;}</style><div id=\"sk-container-id-8\" class=\"sk-top-container\"><div class=\"sk-text-repr-fallback\"><pre>LogisticRegression()</pre><b>In a Jupyter environment, please rerun this cell to show the HTML representation or trust the notebook. <br />On GitHub, the HTML representation is unable to render, please try loading this page with nbviewer.org.</b></div><div class=\"sk-container\" hidden><div class=\"sk-item\"><div class=\"sk-estimator sk-toggleable\"><input class=\"sk-toggleable__control sk-hidden--visually\" id=\"sk-estimator-id-8\" type=\"checkbox\" checked><label for=\"sk-estimator-id-8\" class=\"sk-toggleable__label sk-toggleable__label-arrow\">LogisticRegression</label><div class=\"sk-toggleable__content\"><pre>LogisticRegression()</pre></div></div></div></div></div>"
            ]
          },
          "metadata": {},
          "execution_count": 204
        }
      ]
    },
    {
      "cell_type": "code",
      "source": [
        "y_pred = clf.predict(test_feature)"
      ],
      "metadata": {
        "id": "QgE2r3XTxhCw"
      },
      "execution_count": null,
      "outputs": []
    },
    {
      "cell_type": "code",
      "source": [
        "accuracy = accuracy_score(y_test, y_pred)\n",
        "print(\"Accuracy: {:.2f}%\".format(accuracy * 100))"
      ],
      "metadata": {
        "id": "Hd3zEwWRxkhQ",
        "colab": {
          "base_uri": "https://localhost:8080/"
        },
        "outputId": "93f28b72-44a6-48ce-9673-66aa848b8286"
      },
      "execution_count": null,
      "outputs": [
        {
          "output_type": "stream",
          "name": "stdout",
          "text": [
            "Accuracy: 82.91%\n"
          ]
        }
      ]
    }
  ]
}